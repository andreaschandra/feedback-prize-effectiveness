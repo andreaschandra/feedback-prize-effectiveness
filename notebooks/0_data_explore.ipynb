{
 "cells": [
  {
   "cell_type": "code",
   "execution_count": 58,
   "id": "453d0510-be2f-4b47-a435-7fb6dc09f13a",
   "metadata": {},
   "outputs": [],
   "source": [
    "import os, glob\n",
    "import pandas as pd\n",
    "import matplotlib.pyplot as plt\n",
    "import seaborn as sns"
   ]
  },
  {
   "cell_type": "code",
   "execution_count": 2,
   "id": "a5420328-7154-40e2-8170-8548bf29f502",
   "metadata": {},
   "outputs": [],
   "source": [
    "DATA_DIR = \"../data\""
   ]
  },
  {
   "cell_type": "code",
   "execution_count": 3,
   "id": "ff2d7983-4888-4f28-a653-03e06387af4c",
   "metadata": {},
   "outputs": [],
   "source": [
    "d_train = pd.read_csv(os.path.join(DATA_DIR, \"train.csv\"))"
   ]
  },
  {
   "cell_type": "code",
   "execution_count": 4,
   "id": "88b948d5-584b-4db0-a22d-a8d49cfccad1",
   "metadata": {},
   "outputs": [
    {
     "data": {
      "text/html": [
       "<div>\n",
       "<style scoped>\n",
       "    .dataframe tbody tr th:only-of-type {\n",
       "        vertical-align: middle;\n",
       "    }\n",
       "\n",
       "    .dataframe tbody tr th {\n",
       "        vertical-align: top;\n",
       "    }\n",
       "\n",
       "    .dataframe thead th {\n",
       "        text-align: right;\n",
       "    }\n",
       "</style>\n",
       "<table border=\"1\" class=\"dataframe\">\n",
       "  <thead>\n",
       "    <tr style=\"text-align: right;\">\n",
       "      <th></th>\n",
       "      <th>discourse_id</th>\n",
       "      <th>essay_id</th>\n",
       "      <th>discourse_text</th>\n",
       "      <th>discourse_type</th>\n",
       "      <th>discourse_effectiveness</th>\n",
       "    </tr>\n",
       "  </thead>\n",
       "  <tbody>\n",
       "    <tr>\n",
       "      <th>0</th>\n",
       "      <td>0013cc385424</td>\n",
       "      <td>007ACE74B050</td>\n",
       "      <td>Hi, i'm Isaac, i'm going to be writing about h...</td>\n",
       "      <td>Lead</td>\n",
       "      <td>Adequate</td>\n",
       "    </tr>\n",
       "    <tr>\n",
       "      <th>1</th>\n",
       "      <td>9704a709b505</td>\n",
       "      <td>007ACE74B050</td>\n",
       "      <td>On my perspective, I think that the face is a ...</td>\n",
       "      <td>Position</td>\n",
       "      <td>Adequate</td>\n",
       "    </tr>\n",
       "    <tr>\n",
       "      <th>2</th>\n",
       "      <td>c22adee811b6</td>\n",
       "      <td>007ACE74B050</td>\n",
       "      <td>I think that the face is a natural landform be...</td>\n",
       "      <td>Claim</td>\n",
       "      <td>Adequate</td>\n",
       "    </tr>\n",
       "    <tr>\n",
       "      <th>3</th>\n",
       "      <td>a10d361e54e4</td>\n",
       "      <td>007ACE74B050</td>\n",
       "      <td>If life was on Mars, we would know by now. The...</td>\n",
       "      <td>Evidence</td>\n",
       "      <td>Adequate</td>\n",
       "    </tr>\n",
       "    <tr>\n",
       "      <th>4</th>\n",
       "      <td>db3e453ec4e2</td>\n",
       "      <td>007ACE74B050</td>\n",
       "      <td>People thought that the face was formed by ali...</td>\n",
       "      <td>Counterclaim</td>\n",
       "      <td>Adequate</td>\n",
       "    </tr>\n",
       "  </tbody>\n",
       "</table>\n",
       "</div>"
      ],
      "text/plain": [
       "   discourse_id      essay_id  \\\n",
       "0  0013cc385424  007ACE74B050   \n",
       "1  9704a709b505  007ACE74B050   \n",
       "2  c22adee811b6  007ACE74B050   \n",
       "3  a10d361e54e4  007ACE74B050   \n",
       "4  db3e453ec4e2  007ACE74B050   \n",
       "\n",
       "                                      discourse_text discourse_type  \\\n",
       "0  Hi, i'm Isaac, i'm going to be writing about h...           Lead   \n",
       "1  On my perspective, I think that the face is a ...       Position   \n",
       "2  I think that the face is a natural landform be...          Claim   \n",
       "3  If life was on Mars, we would know by now. The...       Evidence   \n",
       "4  People thought that the face was formed by ali...   Counterclaim   \n",
       "\n",
       "  discourse_effectiveness  \n",
       "0                Adequate  \n",
       "1                Adequate  \n",
       "2                Adequate  \n",
       "3                Adequate  \n",
       "4                Adequate  "
      ]
     },
     "execution_count": 4,
     "metadata": {},
     "output_type": "execute_result"
    }
   ],
   "source": [
    "d_train.head()"
   ]
  },
  {
   "cell_type": "code",
   "execution_count": 5,
   "id": "44d6142c-2104-47bc-ad39-b58f3d32ec62",
   "metadata": {},
   "outputs": [],
   "source": [
    "d_test = pd.read_csv(os.path.join(DATA_DIR, \"test.csv\"))"
   ]
  },
  {
   "cell_type": "code",
   "execution_count": 6,
   "id": "c8bdd4be-5c97-4cdf-bd0f-85cde18b8830",
   "metadata": {},
   "outputs": [
    {
     "data": {
      "text/html": [
       "<div>\n",
       "<style scoped>\n",
       "    .dataframe tbody tr th:only-of-type {\n",
       "        vertical-align: middle;\n",
       "    }\n",
       "\n",
       "    .dataframe tbody tr th {\n",
       "        vertical-align: top;\n",
       "    }\n",
       "\n",
       "    .dataframe thead th {\n",
       "        text-align: right;\n",
       "    }\n",
       "</style>\n",
       "<table border=\"1\" class=\"dataframe\">\n",
       "  <thead>\n",
       "    <tr style=\"text-align: right;\">\n",
       "      <th></th>\n",
       "      <th>discourse_id</th>\n",
       "      <th>essay_id</th>\n",
       "      <th>discourse_text</th>\n",
       "      <th>discourse_type</th>\n",
       "    </tr>\n",
       "  </thead>\n",
       "  <tbody>\n",
       "    <tr>\n",
       "      <th>0</th>\n",
       "      <td>a261b6e14276</td>\n",
       "      <td>D72CB1C11673</td>\n",
       "      <td>Making choices in life can be very difficult. ...</td>\n",
       "      <td>Lead</td>\n",
       "    </tr>\n",
       "    <tr>\n",
       "      <th>1</th>\n",
       "      <td>5a88900e7dc1</td>\n",
       "      <td>D72CB1C11673</td>\n",
       "      <td>Seeking multiple opinions can help a person ma...</td>\n",
       "      <td>Position</td>\n",
       "    </tr>\n",
       "    <tr>\n",
       "      <th>2</th>\n",
       "      <td>9790d835736b</td>\n",
       "      <td>D72CB1C11673</td>\n",
       "      <td>it can decrease stress levels</td>\n",
       "      <td>Claim</td>\n",
       "    </tr>\n",
       "    <tr>\n",
       "      <th>3</th>\n",
       "      <td>75ce6d68b67b</td>\n",
       "      <td>D72CB1C11673</td>\n",
       "      <td>a great chance to learn something new</td>\n",
       "      <td>Claim</td>\n",
       "    </tr>\n",
       "    <tr>\n",
       "      <th>4</th>\n",
       "      <td>93578d946723</td>\n",
       "      <td>D72CB1C11673</td>\n",
       "      <td>can be very helpful and beneficial.</td>\n",
       "      <td>Claim</td>\n",
       "    </tr>\n",
       "    <tr>\n",
       "      <th>5</th>\n",
       "      <td>2e214524dbe3</td>\n",
       "      <td>D72CB1C11673</td>\n",
       "      <td>When making a decision there is a chance that ...</td>\n",
       "      <td>Evidence</td>\n",
       "    </tr>\n",
       "    <tr>\n",
       "      <th>6</th>\n",
       "      <td>84812fc2ab9f</td>\n",
       "      <td>D72CB1C11673</td>\n",
       "      <td>Everyone is different and may have more experi...</td>\n",
       "      <td>Evidence</td>\n",
       "    </tr>\n",
       "    <tr>\n",
       "      <th>7</th>\n",
       "      <td>c668ff840720</td>\n",
       "      <td>D72CB1C11673</td>\n",
       "      <td>Seeking others opinion can be very helpful and...</td>\n",
       "      <td>Claim</td>\n",
       "    </tr>\n",
       "    <tr>\n",
       "      <th>8</th>\n",
       "      <td>739a6d00f44a</td>\n",
       "      <td>D72CB1C11673</td>\n",
       "      <td>Taking other peoples advice and doing what the...</td>\n",
       "      <td>Evidence</td>\n",
       "    </tr>\n",
       "    <tr>\n",
       "      <th>9</th>\n",
       "      <td>bcfae2c9a244</td>\n",
       "      <td>D72CB1C11673</td>\n",
       "      <td>You can learn from others experiences by seeki...</td>\n",
       "      <td>Concluding Statement</td>\n",
       "    </tr>\n",
       "  </tbody>\n",
       "</table>\n",
       "</div>"
      ],
      "text/plain": [
       "   discourse_id      essay_id  \\\n",
       "0  a261b6e14276  D72CB1C11673   \n",
       "1  5a88900e7dc1  D72CB1C11673   \n",
       "2  9790d835736b  D72CB1C11673   \n",
       "3  75ce6d68b67b  D72CB1C11673   \n",
       "4  93578d946723  D72CB1C11673   \n",
       "5  2e214524dbe3  D72CB1C11673   \n",
       "6  84812fc2ab9f  D72CB1C11673   \n",
       "7  c668ff840720  D72CB1C11673   \n",
       "8  739a6d00f44a  D72CB1C11673   \n",
       "9  bcfae2c9a244  D72CB1C11673   \n",
       "\n",
       "                                      discourse_text        discourse_type  \n",
       "0  Making choices in life can be very difficult. ...                  Lead  \n",
       "1  Seeking multiple opinions can help a person ma...              Position  \n",
       "2                     it can decrease stress levels                  Claim  \n",
       "3             a great chance to learn something new                  Claim  \n",
       "4               can be very helpful and beneficial.                  Claim  \n",
       "5  When making a decision there is a chance that ...              Evidence  \n",
       "6  Everyone is different and may have more experi...              Evidence  \n",
       "7  Seeking others opinion can be very helpful and...                 Claim  \n",
       "8  Taking other peoples advice and doing what the...              Evidence  \n",
       "9  You can learn from others experiences by seeki...  Concluding Statement  "
      ]
     },
     "execution_count": 6,
     "metadata": {},
     "output_type": "execute_result"
    }
   ],
   "source": [
    "d_test"
   ]
  },
  {
   "cell_type": "code",
   "execution_count": 7,
   "id": "28010d33-4c93-46a8-8331-af8874a5f640",
   "metadata": {},
   "outputs": [],
   "source": [
    "d_submit = pd.read_csv(os.path.join(DATA_DIR, \"sample_submission.csv\"))"
   ]
  },
  {
   "cell_type": "code",
   "execution_count": 8,
   "id": "e8668db4-0600-4200-b211-671833912fdc",
   "metadata": {},
   "outputs": [
    {
     "data": {
      "text/html": [
       "<div>\n",
       "<style scoped>\n",
       "    .dataframe tbody tr th:only-of-type {\n",
       "        vertical-align: middle;\n",
       "    }\n",
       "\n",
       "    .dataframe tbody tr th {\n",
       "        vertical-align: top;\n",
       "    }\n",
       "\n",
       "    .dataframe thead th {\n",
       "        text-align: right;\n",
       "    }\n",
       "</style>\n",
       "<table border=\"1\" class=\"dataframe\">\n",
       "  <thead>\n",
       "    <tr style=\"text-align: right;\">\n",
       "      <th></th>\n",
       "      <th>discourse_id</th>\n",
       "      <th>Ineffective</th>\n",
       "      <th>Adequate</th>\n",
       "      <th>Effective</th>\n",
       "    </tr>\n",
       "  </thead>\n",
       "  <tbody>\n",
       "    <tr>\n",
       "      <th>0</th>\n",
       "      <td>a261b6e14276</td>\n",
       "      <td>0.20</td>\n",
       "      <td>0.60</td>\n",
       "      <td>0.40</td>\n",
       "    </tr>\n",
       "    <tr>\n",
       "      <th>1</th>\n",
       "      <td>5a88900e7dc1</td>\n",
       "      <td>3.00</td>\n",
       "      <td>6.00</td>\n",
       "      <td>1.00</td>\n",
       "    </tr>\n",
       "    <tr>\n",
       "      <th>2</th>\n",
       "      <td>9790d835736b</td>\n",
       "      <td>1.00</td>\n",
       "      <td>2.00</td>\n",
       "      <td>3.00</td>\n",
       "    </tr>\n",
       "    <tr>\n",
       "      <th>3</th>\n",
       "      <td>75ce6d68b67b</td>\n",
       "      <td>0.33</td>\n",
       "      <td>0.34</td>\n",
       "      <td>0.33</td>\n",
       "    </tr>\n",
       "    <tr>\n",
       "      <th>4</th>\n",
       "      <td>93578d946723</td>\n",
       "      <td>0.01</td>\n",
       "      <td>0.24</td>\n",
       "      <td>0.47</td>\n",
       "    </tr>\n",
       "    <tr>\n",
       "      <th>5</th>\n",
       "      <td>2e214524dbe3</td>\n",
       "      <td>0.20</td>\n",
       "      <td>0.60</td>\n",
       "      <td>0.40</td>\n",
       "    </tr>\n",
       "    <tr>\n",
       "      <th>6</th>\n",
       "      <td>84812fc2ab9f</td>\n",
       "      <td>3.00</td>\n",
       "      <td>6.00</td>\n",
       "      <td>1.00</td>\n",
       "    </tr>\n",
       "    <tr>\n",
       "      <th>7</th>\n",
       "      <td>c668ff840720</td>\n",
       "      <td>1.00</td>\n",
       "      <td>2.00</td>\n",
       "      <td>3.00</td>\n",
       "    </tr>\n",
       "    <tr>\n",
       "      <th>8</th>\n",
       "      <td>739a6d00f44a</td>\n",
       "      <td>0.33</td>\n",
       "      <td>0.34</td>\n",
       "      <td>0.33</td>\n",
       "    </tr>\n",
       "    <tr>\n",
       "      <th>9</th>\n",
       "      <td>bcfae2c9a244</td>\n",
       "      <td>0.01</td>\n",
       "      <td>0.24</td>\n",
       "      <td>0.47</td>\n",
       "    </tr>\n",
       "  </tbody>\n",
       "</table>\n",
       "</div>"
      ],
      "text/plain": [
       "   discourse_id  Ineffective  Adequate  Effective\n",
       "0  a261b6e14276         0.20      0.60       0.40\n",
       "1  5a88900e7dc1         3.00      6.00       1.00\n",
       "2  9790d835736b         1.00      2.00       3.00\n",
       "3  75ce6d68b67b         0.33      0.34       0.33\n",
       "4  93578d946723         0.01      0.24       0.47\n",
       "5  2e214524dbe3         0.20      0.60       0.40\n",
       "6  84812fc2ab9f         3.00      6.00       1.00\n",
       "7  c668ff840720         1.00      2.00       3.00\n",
       "8  739a6d00f44a         0.33      0.34       0.33\n",
       "9  bcfae2c9a244         0.01      0.24       0.47"
      ]
     },
     "execution_count": 8,
     "metadata": {},
     "output_type": "execute_result"
    }
   ],
   "source": [
    "d_submit"
   ]
  },
  {
   "cell_type": "markdown",
   "id": "4a8fad46-3db0-4e47-8e62-d4485b375038",
   "metadata": {},
   "source": [
    "### Train"
   ]
  },
  {
   "cell_type": "code",
   "execution_count": 9,
   "id": "020b2318-dc32-4f5e-a814-aff5022133b7",
   "metadata": {},
   "outputs": [],
   "source": [
    "d_train = d_train.sort_values('essay_id')"
   ]
  },
  {
   "cell_type": "code",
   "execution_count": 10,
   "id": "b8305a59-a79f-4879-9f58-8f0ca285c077",
   "metadata": {},
   "outputs": [
    {
     "data": {
      "text/plain": [
       "(36765, 5)"
      ]
     },
     "execution_count": 10,
     "metadata": {},
     "output_type": "execute_result"
    }
   ],
   "source": [
    "d_train.shape"
   ]
  },
  {
   "cell_type": "code",
   "execution_count": 11,
   "id": "d0efb341-2c39-488f-89bc-7a2dfa4cc8a2",
   "metadata": {},
   "outputs": [
    {
     "data": {
      "text/plain": [
       "(36765,)"
      ]
     },
     "execution_count": 11,
     "metadata": {},
     "output_type": "execute_result"
    }
   ],
   "source": [
    "d_train.discourse_id.unique().shape"
   ]
  },
  {
   "cell_type": "code",
   "execution_count": 12,
   "id": "6fc6ee22-92c9-4a33-9f97-01faa51d186c",
   "metadata": {},
   "outputs": [
    {
     "data": {
      "text/html": [
       "<div>\n",
       "<style scoped>\n",
       "    .dataframe tbody tr th:only-of-type {\n",
       "        vertical-align: middle;\n",
       "    }\n",
       "\n",
       "    .dataframe tbody tr th {\n",
       "        vertical-align: top;\n",
       "    }\n",
       "\n",
       "    .dataframe thead th {\n",
       "        text-align: right;\n",
       "    }\n",
       "</style>\n",
       "<table border=\"1\" class=\"dataframe\">\n",
       "  <thead>\n",
       "    <tr style=\"text-align: right;\">\n",
       "      <th></th>\n",
       "      <th>discourse_id</th>\n",
       "      <th>essay_id</th>\n",
       "      <th>discourse_text</th>\n",
       "      <th>discourse_type</th>\n",
       "      <th>discourse_effectiveness</th>\n",
       "    </tr>\n",
       "  </thead>\n",
       "  <tbody>\n",
       "    <tr>\n",
       "      <th>14340</th>\n",
       "      <td>fe6dfbd53216</td>\n",
       "      <td>00066EA9880D</td>\n",
       "      <td>Driverless cars are exaclty what you would exp...</td>\n",
       "      <td>Lead</td>\n",
       "      <td>Adequate</td>\n",
       "    </tr>\n",
       "    <tr>\n",
       "      <th>14348</th>\n",
       "      <td>3e75ef7e0262</td>\n",
       "      <td>00066EA9880D</td>\n",
       "      <td>With all these things that could possibly go w...</td>\n",
       "      <td>Concluding Statement</td>\n",
       "      <td>Adequate</td>\n",
       "    </tr>\n",
       "    <tr>\n",
       "      <th>14347</th>\n",
       "      <td>cb665a65fb75</td>\n",
       "      <td>00066EA9880D</td>\n",
       "      <td>Should the manufacturer of the car be blamed o...</td>\n",
       "      <td>Evidence</td>\n",
       "      <td>Effective</td>\n",
       "    </tr>\n",
       "    <tr>\n",
       "      <th>14346</th>\n",
       "      <td>d16ff143cb0b</td>\n",
       "      <td>00066EA9880D</td>\n",
       "      <td>who to blame for the wreck if there were possi...</td>\n",
       "      <td>Claim</td>\n",
       "      <td>Effective</td>\n",
       "    </tr>\n",
       "    <tr>\n",
       "      <th>14341</th>\n",
       "      <td>ca9e1b60c9fb</td>\n",
       "      <td>00066EA9880D</td>\n",
       "      <td>The developement of these cars should be stopp...</td>\n",
       "      <td>Position</td>\n",
       "      <td>Effective</td>\n",
       "    </tr>\n",
       "  </tbody>\n",
       "</table>\n",
       "</div>"
      ],
      "text/plain": [
       "       discourse_id      essay_id  \\\n",
       "14340  fe6dfbd53216  00066EA9880D   \n",
       "14348  3e75ef7e0262  00066EA9880D   \n",
       "14347  cb665a65fb75  00066EA9880D   \n",
       "14346  d16ff143cb0b  00066EA9880D   \n",
       "14341  ca9e1b60c9fb  00066EA9880D   \n",
       "\n",
       "                                          discourse_text  \\\n",
       "14340  Driverless cars are exaclty what you would exp...   \n",
       "14348  With all these things that could possibly go w...   \n",
       "14347  Should the manufacturer of the car be blamed o...   \n",
       "14346  who to blame for the wreck if there were possi...   \n",
       "14341  The developement of these cars should be stopp...   \n",
       "\n",
       "             discourse_type discourse_effectiveness  \n",
       "14340                  Lead                Adequate  \n",
       "14348  Concluding Statement                Adequate  \n",
       "14347              Evidence               Effective  \n",
       "14346                 Claim               Effective  \n",
       "14341              Position               Effective  "
      ]
     },
     "execution_count": 12,
     "metadata": {},
     "output_type": "execute_result"
    }
   ],
   "source": [
    "d_train.head()"
   ]
  },
  {
   "cell_type": "code",
   "execution_count": 13,
   "id": "81574745-c938-48b8-838d-514efc40f459",
   "metadata": {},
   "outputs": [
    {
     "data": {
      "text/html": [
       "<div>\n",
       "<style scoped>\n",
       "    .dataframe tbody tr th:only-of-type {\n",
       "        vertical-align: middle;\n",
       "    }\n",
       "\n",
       "    .dataframe tbody tr th {\n",
       "        vertical-align: top;\n",
       "    }\n",
       "\n",
       "    .dataframe thead th {\n",
       "        text-align: right;\n",
       "    }\n",
       "</style>\n",
       "<table border=\"1\" class=\"dataframe\">\n",
       "  <thead>\n",
       "    <tr style=\"text-align: right;\">\n",
       "      <th></th>\n",
       "      <th>discourse_id</th>\n",
       "      <th>essay_id</th>\n",
       "      <th>discourse_text</th>\n",
       "      <th>discourse_type</th>\n",
       "      <th>discourse_effectiveness</th>\n",
       "    </tr>\n",
       "  </thead>\n",
       "  <tbody>\n",
       "    <tr>\n",
       "      <th>14340</th>\n",
       "      <td>fe6dfbd53216</td>\n",
       "      <td>00066EA9880D</td>\n",
       "      <td>Driverless cars are exaclty what you would exp...</td>\n",
       "      <td>Lead</td>\n",
       "      <td>Adequate</td>\n",
       "    </tr>\n",
       "  </tbody>\n",
       "</table>\n",
       "</div>"
      ],
      "text/plain": [
       "       discourse_id      essay_id  \\\n",
       "14340  fe6dfbd53216  00066EA9880D   \n",
       "\n",
       "                                          discourse_text discourse_type  \\\n",
       "14340  Driverless cars are exaclty what you would exp...           Lead   \n",
       "\n",
       "      discourse_effectiveness  \n",
       "14340                Adequate  "
      ]
     },
     "execution_count": 13,
     "metadata": {},
     "output_type": "execute_result"
    }
   ],
   "source": [
    "d_train[d_train.discourse_id == \"fe6dfbd53216\"]"
   ]
  },
  {
   "cell_type": "code",
   "execution_count": 14,
   "id": "fa4968df-f5a8-4753-9f48-6d9b1fb761b5",
   "metadata": {},
   "outputs": [
    {
     "data": {
      "text/plain": [
       "'Driverless cars are exaclty what you would expect them to be. Cars that will drive without a person actually behind the wheel controlling the actions of the vehicle. The idea of driverless cars going in to developement shows the amount of technological increase that the wolrd has made. The leader of this idea of driverless cars are the automobiles they call Google cars. The arduous task of creating safe driverless cars has not been fully mastered yet. '"
      ]
     },
     "execution_count": 14,
     "metadata": {},
     "output_type": "execute_result"
    }
   ],
   "source": [
    "d_train[d_train.discourse_id == \"fe6dfbd53216\"].discourse_text[14340]"
   ]
  },
  {
   "cell_type": "code",
   "execution_count": 16,
   "id": "77bd2819-36f8-4766-9701-5d5e8a05920b",
   "metadata": {},
   "outputs": [
    {
     "data": {
      "text/plain": [
       "4CA37D113612    23\n",
       "900A879708F0    23\n",
       "91B1F82B2CF1    23\n",
       "6F271187D67D    22\n",
       "73F69FA2E0E3    22\n",
       "                ..\n",
       "54B7666CDA35     1\n",
       "A32414F5B216     1\n",
       "D6A32ABCAB53     1\n",
       "E4559E81E304     1\n",
       "FFFF80B8CC2F     1\n",
       "Name: essay_id, Length: 4191, dtype: int64"
      ]
     },
     "execution_count": 16,
     "metadata": {},
     "output_type": "execute_result"
    }
   ],
   "source": [
    "d_train.essay_id.value_counts()"
   ]
  },
  {
   "cell_type": "code",
   "execution_count": 17,
   "id": "615e5c96-7903-409d-8bf6-1881425f3c2f",
   "metadata": {},
   "outputs": [
    {
     "data": {
      "text/html": [
       "<div>\n",
       "<style scoped>\n",
       "    .dataframe tbody tr th:only-of-type {\n",
       "        vertical-align: middle;\n",
       "    }\n",
       "\n",
       "    .dataframe tbody tr th {\n",
       "        vertical-align: top;\n",
       "    }\n",
       "\n",
       "    .dataframe thead th {\n",
       "        text-align: right;\n",
       "    }\n",
       "</style>\n",
       "<table border=\"1\" class=\"dataframe\">\n",
       "  <thead>\n",
       "    <tr style=\"text-align: right;\">\n",
       "      <th></th>\n",
       "      <th>discourse_id</th>\n",
       "      <th>essay_id</th>\n",
       "      <th>discourse_text</th>\n",
       "      <th>discourse_type</th>\n",
       "      <th>discourse_effectiveness</th>\n",
       "    </tr>\n",
       "  </thead>\n",
       "  <tbody>\n",
       "    <tr>\n",
       "      <th>14340</th>\n",
       "      <td>fe6dfbd53216</td>\n",
       "      <td>00066EA9880D</td>\n",
       "      <td>Driverless cars are exaclty what you would exp...</td>\n",
       "      <td>Lead</td>\n",
       "      <td>Adequate</td>\n",
       "    </tr>\n",
       "    <tr>\n",
       "      <th>14348</th>\n",
       "      <td>3e75ef7e0262</td>\n",
       "      <td>00066EA9880D</td>\n",
       "      <td>With all these things that could possibly go w...</td>\n",
       "      <td>Concluding Statement</td>\n",
       "      <td>Adequate</td>\n",
       "    </tr>\n",
       "    <tr>\n",
       "      <th>14347</th>\n",
       "      <td>cb665a65fb75</td>\n",
       "      <td>00066EA9880D</td>\n",
       "      <td>Should the manufacturer of the car be blamed o...</td>\n",
       "      <td>Evidence</td>\n",
       "      <td>Effective</td>\n",
       "    </tr>\n",
       "    <tr>\n",
       "      <th>14346</th>\n",
       "      <td>d16ff143cb0b</td>\n",
       "      <td>00066EA9880D</td>\n",
       "      <td>who to blame for the wreck if there were possi...</td>\n",
       "      <td>Claim</td>\n",
       "      <td>Effective</td>\n",
       "    </tr>\n",
       "    <tr>\n",
       "      <th>14341</th>\n",
       "      <td>ca9e1b60c9fb</td>\n",
       "      <td>00066EA9880D</td>\n",
       "      <td>The developement of these cars should be stopp...</td>\n",
       "      <td>Position</td>\n",
       "      <td>Effective</td>\n",
       "    </tr>\n",
       "    <tr>\n",
       "      <th>14344</th>\n",
       "      <td>7d52c3216a0e</td>\n",
       "      <td>00066EA9880D</td>\n",
       "      <td>Another thing that can go wrong with these car...</td>\n",
       "      <td>Claim</td>\n",
       "      <td>Effective</td>\n",
       "    </tr>\n",
       "    <tr>\n",
       "      <th>14343</th>\n",
       "      <td>d920880f4341</td>\n",
       "      <td>00066EA9880D</td>\n",
       "      <td>This is such a dangerous thing because we all ...</td>\n",
       "      <td>Evidence</td>\n",
       "      <td>Effective</td>\n",
       "    </tr>\n",
       "    <tr>\n",
       "      <th>14342</th>\n",
       "      <td>6cf2157f4f19</td>\n",
       "      <td>00066EA9880D</td>\n",
       "      <td>the driver will be alerted when they will need...</td>\n",
       "      <td>Claim</td>\n",
       "      <td>Effective</td>\n",
       "    </tr>\n",
       "    <tr>\n",
       "      <th>14345</th>\n",
       "      <td>30930de50889</td>\n",
       "      <td>00066EA9880D</td>\n",
       "      <td>Every person with any kind of technological de...</td>\n",
       "      <td>Evidence</td>\n",
       "      <td>Effective</td>\n",
       "    </tr>\n",
       "  </tbody>\n",
       "</table>\n",
       "</div>"
      ],
      "text/plain": [
       "       discourse_id      essay_id  \\\n",
       "14340  fe6dfbd53216  00066EA9880D   \n",
       "14348  3e75ef7e0262  00066EA9880D   \n",
       "14347  cb665a65fb75  00066EA9880D   \n",
       "14346  d16ff143cb0b  00066EA9880D   \n",
       "14341  ca9e1b60c9fb  00066EA9880D   \n",
       "14344  7d52c3216a0e  00066EA9880D   \n",
       "14343  d920880f4341  00066EA9880D   \n",
       "14342  6cf2157f4f19  00066EA9880D   \n",
       "14345  30930de50889  00066EA9880D   \n",
       "\n",
       "                                          discourse_text  \\\n",
       "14340  Driverless cars are exaclty what you would exp...   \n",
       "14348  With all these things that could possibly go w...   \n",
       "14347  Should the manufacturer of the car be blamed o...   \n",
       "14346  who to blame for the wreck if there were possi...   \n",
       "14341  The developement of these cars should be stopp...   \n",
       "14344  Another thing that can go wrong with these car...   \n",
       "14343  This is such a dangerous thing because we all ...   \n",
       "14342  the driver will be alerted when they will need...   \n",
       "14345  Every person with any kind of technological de...   \n",
       "\n",
       "             discourse_type discourse_effectiveness  \n",
       "14340                  Lead                Adequate  \n",
       "14348  Concluding Statement                Adequate  \n",
       "14347              Evidence               Effective  \n",
       "14346                 Claim               Effective  \n",
       "14341              Position               Effective  \n",
       "14344                 Claim               Effective  \n",
       "14343              Evidence               Effective  \n",
       "14342                 Claim               Effective  \n",
       "14345              Evidence               Effective  "
      ]
     },
     "execution_count": 17,
     "metadata": {},
     "output_type": "execute_result"
    }
   ],
   "source": [
    "d_train[d_train.essay_id == \"00066EA9880D\"]"
   ]
  },
  {
   "cell_type": "code",
   "execution_count": 49,
   "id": "32eacad5-d94a-4f20-b7be-594b202aa811",
   "metadata": {},
   "outputs": [],
   "source": [
    "discourse_type_order = [\"Lead\", \"Position\", \"Claim\", \"Counterclaim\", \"Rebuttal\", \"Evidence\", \"Concluding Statement\"]"
   ]
  },
  {
   "cell_type": "code",
   "execution_count": 24,
   "id": "bea6c594-b21c-4089-9dbe-ad7c68e95439",
   "metadata": {},
   "outputs": [],
   "source": [
    "effectiveness_order = [\"Ineffective\", \"Adequate\", \"Effective\"]"
   ]
  },
  {
   "cell_type": "code",
   "execution_count": 21,
   "id": "be345849-79b0-49f9-a79c-09349ff893f3",
   "metadata": {},
   "outputs": [
    {
     "data": {
      "text/plain": [
       "Evidence                12105\n",
       "Claim                   11977\n",
       "Position                 4024\n",
       "Concluding Statement     3351\n",
       "Lead                     2291\n",
       "Counterclaim             1773\n",
       "Rebuttal                 1244\n",
       "Name: discourse_type, dtype: int64"
      ]
     },
     "execution_count": 21,
     "metadata": {},
     "output_type": "execute_result"
    }
   ],
   "source": [
    "d_train.discourse_type.value_counts()"
   ]
  },
  {
   "cell_type": "code",
   "execution_count": 23,
   "id": "250011a8-2fe6-4389-b794-0873825c8bdf",
   "metadata": {},
   "outputs": [
    {
     "data": {
      "text/plain": [
       "Adequate       20977\n",
       "Effective       9326\n",
       "Ineffective     6462\n",
       "Name: discourse_effectiveness, dtype: int64"
      ]
     },
     "execution_count": 23,
     "metadata": {},
     "output_type": "execute_result"
    }
   ],
   "source": [
    "d_train.discourse_effectiveness.value_counts()"
   ]
  },
  {
   "cell_type": "code",
   "execution_count": 47,
   "id": "5bb8efa7-0cc9-4488-b173-952888170c03",
   "metadata": {},
   "outputs": [],
   "source": [
    "d_train_count = d_train.groupby(['discourse_type', 'discourse_effectiveness'], as_index=False).count()"
   ]
  },
  {
   "cell_type": "code",
   "execution_count": 55,
   "id": "263d5256-63de-41fe-9eb6-ab70bc7bfd54",
   "metadata": {},
   "outputs": [],
   "source": [
    "d_train_count.discourse_type = pd.Categorical(d_train_count.discourse_type, ordered=True, categories=discourse_type_order)"
   ]
  },
  {
   "cell_type": "code",
   "execution_count": 56,
   "id": "120844f6-dd94-46b2-ad2e-5e03e88f1a58",
   "metadata": {},
   "outputs": [],
   "source": [
    "d_train_count.discourse_effectiveness = pd.Categorical(d_train_count.discourse_effectiveness, ordered=True, categories=effectiveness_order)"
   ]
  },
  {
   "cell_type": "code",
   "execution_count": 70,
   "id": "a2eca78a-e0c3-461c-ab20-b76ecd77025d",
   "metadata": {},
   "outputs": [
    {
     "data": {
      "image/png": "[encoded data removed]",
      "text/plain": [
       "<Figure size 720x432 with 1 Axes>"
      ]
     },
     "metadata": {
      "needs_background": "light"
     },
     "output_type": "display_data"
    }
   ],
   "source": [
    "plt.figure(figsize=(10, 6))\n",
    "g = sns.barplot(data = d_train_count, x='discourse_type', y='discourse_id', hue='discourse_effectiveness')\n",
    "g.set_xticklabels(g.get_xticklabels(),rotation = 30)\n",
    "plt.show()"
   ]
  },
  {
   "cell_type": "code",
   "execution_count": 50,
   "id": "2148fbc6-3ac0-43de-bb70-1363e63a4cb6",
   "metadata": {},
   "outputs": [
    {
     "name": "stdout",
     "output_type": "stream",
     "text": [
      "LEAD  -  INEFFECTIVE\n",
      "President Obama has done nothing to improve our society.  If anything, he has created the worst society this world has ever seen.\n",
      "\n",
      "\n",
      "I would like to make a request.\n",
      "\n",
      "\n",
      "Is there really a new kind of life on mars. No! We are the only life in this universe. Plus if people lived on mars, how could they build such a huge amount of rock into a face so perfectly.\n",
      "\n",
      "\n",
      "==================================================\n",
      "LEAD  -  ADEQUATE\n",
      "Driverless cars are exaclty what you would expect them to be. Cars that will drive without a person actually behind the wheel controlling the actions of the vehicle. The idea of driverless cars going in to developement shows the amount of technological increase that the wolrd has made. The leader of this idea of driverless cars are the automobiles they call Google cars. The arduous task of creating safe driverless cars has not been fully mastered yet.\n",
      "\n",
      "\n",
      "I heard you are considering changing the schools policy so that the students may not participate in sports or other activities unless they have at least a grade B average.\n",
      "\n",
      "\n",
      "Hi, i'm Isaac, i'm going to be writing about how this face on Mars is a natural landform or if there is life on Mars that made it. The story is about how NASA took a picture of Mars and a face was seen on the planet. NASA doesn't know if the landform was created by life on Mars, or if it is just a natural landform.\n",
      "\n",
      "\n",
      "==================================================\n",
      "LEAD  -  EFFECTIVE\n",
      "It is every student's dream to be able to lounge around at home, and complete school from the comforts of their own beds. Though, for some students, this long desired fantasy is becoming a reality. With the introduction of new and innovative technologies into the classroom, distance learning is now a common practice, whether it be online or through video conferencing. However, to pretend that this is a solution to the ever-growing problems within the education system, is willfully ignorant\n",
      "\n",
      "\n",
      "Millions of students from various cultures and locations have a common distaste for school. Many of them confidently argue that learning from home would be much more comfortable and conducive to their learning, for they would not be limited by the pressures of an academic atmosphere, which include intimidating teachers, competitive classmates, and uncomfortable classrooms.\n",
      "\n",
      "\n",
      "In life all of us suffer many trials and obstacles of different extremes. As humans a normal way to deal with these trials is to look to someone for comfort and advice. Whether that may be many people or just one person it is usually someone we confide in with our thoughts and someone that can confide in us to be able to tell the truth. At times, we may find it better to talk to more than one person when asking for advice. We may go to one person to get an outside opinion on the situation. By getting this outside opinion this person may not necessarily be biased to one side of the story and it gives this person a chance to be truthful. You may also go to someone who has a different way of thinking as you, someone with a different mindset. This person could bring up new points to you and new sides of the situation to open up your mind to new possibilities. There might also be someone who has a similar way of thinking as you that could help you reassure and understand your thoughts and emotions. Another reason why you may go to a different person is just to vent. By simply telling this person everything thats going on it could help you organize thoughts in your own head. You may not look for this person for advice but someone to be there to listen to you while you figure out how you want to move forward in the situation. By expressing your feelings to this one person it could help you organize and address thoughts in your own head.\n",
      "\n",
      "\n",
      "==================================================\n",
      "POSITION  -  INEFFECTIVE\n",
      "Our school should have a community center.\n",
      "\n",
      "\n",
      "There are many sides to people giving up their cars. Some people are truly happy and some are not. It may not be that bad, i mean how did people manige before cars were even invented\n",
      "\n",
      "\n",
      "That we have to do is get a B in sport or other activities\n",
      "\n",
      "\n",
      "==================================================\n",
      "POSITION  -  ADEQUATE\n",
      "I am arguing against the policy change\n",
      "\n",
      "\n",
      "I think that students would benefit from learning at home\n",
      "\n",
      "\n",
      "I agree 100% with you. i think in order to be on a team sport you will have to have you grade up to a B\n",
      "\n",
      "\n",
      "==================================================\n",
      "POSITION  -  EFFECTIVE\n",
      "The developement of these cars should be stopped immediately because there are too many hazardous and dangerous events that could occur.\n",
      "\n",
      "\n",
      "Distance education is actually detrimental to the students who choose to take these courses, due to the lack of typical classroom structure.\n",
      "\n",
      "\n",
      "I think that's crazy! If kids don't have and opportunity to play a sport because of their \"C\" that's no reason to take away their dream. What if they want to become a professional swimmer? You're just going cut down their dream tree just because of a \"c'?\n",
      "\n",
      "\n",
      "==================================================\n",
      "CLAIM  -  INEFFECTIVE\n",
      "you would feel ashame and then many bad things could happen meaning, you would be angry etc.\n",
      "\n",
      "\n",
      "We would want to make changes as, \"like to be a better person for a better tomorrow\" This supports the idea of having have many good thoughts and incasing your work as much as possible.\n",
      "\n",
      "\n",
      "I have a \"C\" in math, and swim is coming up-you're just going to take away my chances to beat my times from last year?\n",
      "\n",
      "\n",
      "==================================================\n",
      "CLAIM  -  ADEQUATE\n",
      "I think that student should have sports\n",
      "\n",
      "\n",
      "we should make a vote to see if kids would want to have a school policy of change and having to participate in fun activities but they first need to have at least a B average.\n",
      "\n",
      "\n",
      "consider student self as steam. Meaning student would start to feel sad nervous, and not wanting to go to school\n",
      "\n",
      "\n",
      "==================================================\n",
      "CLAIM  -  EFFECTIVE\n",
      "who to blame for the wreck if there were possibly some sort of technological malfunciton or even some sort of human error when taking over the driving aspect.\n",
      "\n",
      "\n",
      "Another thing that can go wrong with these cars is any type of techological malfucntion.\n",
      "\n",
      "\n",
      "the driver will be alerted when they will need to take over the driving responsibilites of the car.\n",
      "\n",
      "\n",
      "==================================================\n",
      "COUNTERCLAIM  -  INEFFECTIVE\n",
      "Some of the students believe that it should not be available at al\n",
      "\n",
      "\n",
      "NASA on the other hand and says there is likelyness of a human face. They also believe it is an alien artifac\n",
      "\n",
      "\n",
      "Also, althoughs theres a lot of cons to this,\n",
      "\n",
      "\n",
      "==================================================\n",
      "COUNTERCLAIM  -  ADEQUATE\n",
      "even though there are some children out there that really needs help with their academic work\n",
      "\n",
      "\n",
      "Kids who display anti-social tendencies or simply wish to stay home and away from the hustle-and-bustle of the outside world would prefer distance learning undoubtedly.\n",
      "\n",
      "\n",
      "However, some people will raise the point that there are distractions within in the classroom and students will slack off anyway, if they so desire\n",
      "\n",
      "\n",
      "==================================================\n",
      "COUNTERCLAIM  -  EFFECTIVE\n",
      "It's easily understandable that for some students, distance learning is simply the only viable option. Whether they physically cannot make it to the school building, or because their school merely doesn't offer the classes they wish to take, sometimes students are more or less forced to take online classes. And this is completely acceptable and understandable, and no one should fault these students for desiring an education and seeking out alternative options\n",
      "\n",
      "\n",
      "Some people may say, \"but allowing students to design their own projects will allow them to focus more on their work during the summer.\"\n",
      "\n",
      "\n",
      "Now, this assignment can not be a free for all, that would not be completely fair. There may be some students who go above and beyond while some may do the bare minimum and call it done.\n",
      "\n",
      "\n",
      "==================================================\n",
      "REBUTTAL  -  INEFFECTIVE\n",
      "though some say that life on Mars does exist, I think that there is no life on Mars.\n",
      "\n",
      "\n",
      "but i personally believe that it should be for those who want to\n",
      "\n",
      "\n",
      "well it is not.\n",
      "\n",
      "\n",
      "==================================================\n",
      "REBUTTAL  -  ADEQUATE\n",
      "that does not mean that only because they have a c average that would not let them enjoy their sports or other activities unless they've a B average.\n",
      "\n",
      "\n",
      "but not every kid has a GPA of 4.0\n",
      "\n",
      "\n",
      "but they have to learn what our community needs.\n",
      "\n",
      "\n",
      "==================================================\n",
      "REBUTTAL  -  EFFECTIVE\n",
      "But, they would then forfeit the opportunity to build relationships with other kids of their own age. Especially with younger kids and kids who like to stay at home or be alone, learning and building social skills starts at school.\n",
      "\n",
      "\n",
      "This is a valid observation. But without the constant droning of a teacher to be on task, kids who are distantly educated are more likely to become distracted and it's displayed in their meager and unsatisfactory work. Distractions don't cease to exist in a classroom setting, but they are heavily reduced compared to when a student is at home.\n",
      "\n",
      "\n",
      "However, these circumstances aren't always applicable to the students who choose distance learning. And those students, who have no other reason other than they \"just want to stay home\" or \"don't feel like it\", should have to sit in a classroom with the rest of their peers, and learn like in the same setting and environment that everyone else does. For lazy students, distance education is not a valuable resource, and abused in order to waste time.\n",
      "\n",
      "\n",
      "==================================================\n",
      "EVIDENCE  -  INEFFECTIVE\n",
      "it gives then an advantage to be smarter and even pass there classmates on class work. public schools are difficult even if you try. some teacher dont know how to teach it in then way that students understand it. that causes students to fail and they may repeat the class.\n",
      "\n",
      "\n",
      "tudents will receive a good grade if they participate in this community because is like an extra credit.\n",
      "\n",
      "\n",
      "due to that their friends would want to enjoy the program because their friend told them about it.\n",
      "\n",
      "\n",
      "==================================================\n",
      "EVIDENCE  -  ADEQUATE\n",
      "it helps them with their health, and problems that they would have personal.\n",
      "\n",
      "\n",
      "because of the reason they have a low averages and they can not participate in other activities or sports. The fact that there are children that would want to enjoy many good things the school is actually giving it to them.\n",
      "\n",
      "\n",
      "Sometimes teachers or even principal needs to consider that we should give the help that any student should have\n",
      "\n",
      "\n",
      "==================================================\n",
      "EVIDENCE  -  EFFECTIVE\n",
      "Should the manufacturer of the car be blamed or should it be the driver? No one knows because there is so many different factors that attribute to who to assign the blame to. Some of what will have to be made is a judgement call. When it comes to insurance and having to pay for any damages you do not want someone to have to make some sort of judgement call. What if that judgement call that was made was the wrong call? Now there are going to be even more lawsuits today in our courts than there already are. This problem alone will just lead to many more issues today in the world that should not have to be dealt with.\n",
      "\n",
      "\n",
      "This is such a dangerous thing because we all know that whenever humans get their attention drawn in on something interesting it is hard to draw their focus somewhere else. The article explains that companies are trying to implement vibrations when the car is in trouble. Their are some people out there who do not feel vibrations and therefore would not be able to take control of the car when needed. The article also states that companies are trying to put in-car entertainment into the car while it is being driven. This is just another thing that will distract the person who is supposed to be ready at all times to take over driving when asked to do so.\n",
      "\n",
      "\n",
      "Every person with any kind of technological device has experienced some sort of error. Now imagine if your car has an error technologically and it takes the life of one your loved ones. The article talks about sensors around the car that read the surroundings of the car and that is what helps he car to drive without a true driver behind the wheel. Those sensors could have a malfunctions and be sensing something that is that even there and make a left turn into a 100 foot deep lake. The vibrations that cause the driver to be notified to drive could malfunction and now the driver has no way of knowing that the car is in trouble and now you, the driver, and the rest of your passengers are being buried in your local cemetery.\n",
      "\n",
      "\n",
      "==================================================\n",
      "CONCLUDING STATEMENT  -  INEFFECTIVE\n",
      "So that's why i think its important school before sports. and have an A or B for grades so you can do sports\n",
      "\n",
      "\n",
      "but you can always change it if it gets out of hand.\n",
      "\n",
      "\n",
      "Scientest are working hard to accheve this goal to explore this harsh mystery planet. They accept the challanges that come with it and they strive to succeed not only to gain insight but to quench their curiosity that all humans have about this planet and the possibilities that it could lead to.\n",
      "\n",
      "\n",
      "==================================================\n",
      "CONCLUDING STATEMENT  -  ADEQUATE\n",
      "With all these things that could possibly go wrong with these driverless cars there is no way that the developement of them should continue any further. In today's society if something bad COULD happen or something COULD go wrong, it WILL happen, and it WILL go wrong. There are just way too many safety hazards that come along with these driverless cars. Becuase of all of these problems that arise with the cars it is just a gargantuan risk to implement these cars into our lifestyles.\n",
      "\n",
      "\n",
      "I am against this policy change.\n",
      "\n",
      "\n",
      "i hope you rethink about changing the schools policy so that students MAY participate in sports and other activities even if we have a \"C\" average.\n",
      "\n",
      "\n",
      "==================================================\n",
      "CONCLUDING STATEMENT  -  EFFECTIVE\n",
      "Distance education will most likely always be a hotly debated topic, in which both sides of the argument will raise many deeply introspective and thought-provoking questions and points. In some cases, distance education is necessary and important. However, it cannot be ignored that distance learning is not conducive or beneficial to most students. The lack of a normal classroom set-up, with teachers and classmates replaced for a laptop and a of couple blankets, fails to help students develop vital social and communication skills, while simultaneously aiding in the slacking off and wasting time of many students. All in all, distance learning and education isn't an appropriate replacement for a normal education that is received in a classroom, at a desk.\n",
      "\n",
      "\n",
      "Overall, while online schooling would allow more comfort for the students, it would greatly inhibit their academic affairs, for they would not have access to crucial aspects of educational development, including social interaction, interactive experiences, and individualized relationships with educators. Without these fundamental components, students would not acquire lasting, solid educations, limiting their career possibilities and therefore the quality of their lives.\n",
      "\n",
      "To optimize the educational as well as general quality of future generations, physical schooling must be promoted rather than the attendance of school from home.\n",
      "\n",
      "\n",
      "Different people that are helpful to seek advice from is someone who is more of an outside opinion because they tell you the truth and dont sugar coat their thoughts. If you seek someone who has a different mindset they will introduce new ways of thinking and different approaches you could take in the situation.\n",
      "\n",
      "By expressing all your feelings, thoughts, and emotions you are letting someone know how you feel and getting the support you need to move forward confidently. By talking to multiple people exploring new thoughts and mindsets, getting an unbiased opinion, and being able to express and organize your thoughts you are getting set up to make good choices rationally. I personally believe that when someone asks multiple people for advice it and seeking multiple opinions it helps them be able to make smart and rational choices while being confident with their choice and content with their thoughts and emotions.\n",
      "\n",
      "\n",
      "==================================================\n"
     ]
    }
   ],
   "source": [
    "for type_ in discourse_type_order:\n",
    "    for eff in effectiveness_order:\n",
    "        slicing = d_train[(d_train.discourse_type == type_) & (d_train.discourse_effectiveness == eff)]\n",
    "        \n",
    "        print(type_.upper(), \" - \", eff.upper())\n",
    "        for text in slicing.discourse_text.tolist()[:3]:\n",
    "            print(text.strip())\n",
    "            print(\"\\n\")\n",
    "        print(\"=\"*50)"
   ]
  },
  {
   "cell_type": "code",
   "execution_count": 74,
   "id": "60a81064-3165-4412-aee3-f536c39df9c2",
   "metadata": {},
   "outputs": [],
   "source": [
    "d_train['text_length'] = d_train.discourse_text.apply(lambda x: len(x.split()))"
   ]
  },
  {
   "cell_type": "code",
   "execution_count": 78,
   "id": "a2fdf8f3-6586-4aa9-b1e1-0efab3299256",
   "metadata": {},
   "outputs": [
    {
     "data": {
      "text/plain": [
       "Index(['discourse_id', 'essay_id', 'discourse_text', 'discourse_type',\n",
       "       'discourse_effectiveness', 'text_length'],\n",
       "      dtype='object')"
      ]
     },
     "execution_count": 78,
     "metadata": {},
     "output_type": "execute_result"
    }
   ],
   "source": [
    "d_train.columns"
   ]
  },
  {
   "cell_type": "code",
   "execution_count": 84,
   "id": "c2a19bc2-0524-4613-8c42-dab30a9a9e10",
   "metadata": {},
   "outputs": [
    {
     "data": {
      "text/plain": [
       "<AxesSubplot:xlabel='discourse_type', ylabel='text_length'>"
      ]
     },
     "execution_count": 84,
     "metadata": {},
     "output_type": "execute_result"
    },
    {
     "data": {
      "image/png": "[encoded data removed]",
      "text/plain": [
       "<Figure size 936x720 with 1 Axes>"
      ]
     },
     "metadata": {
      "needs_background": "light"
     },
     "output_type": "display_data"
    }
   ],
   "source": [
    "plt.figure(figsize=(13, 10))\n",
    "sns.boxplot(data = d_train, \n",
    "            y='text_length', \n",
    "            x='discourse_type', \n",
    "            hue='discourse_effectiveness', \n",
    "            order=discourse_type_order, hue_order=effectiveness_order)"
   ]
  },
  {
   "cell_type": "code",
   "execution_count": 87,
   "id": "4628b499-7691-441d-8e43-8442a19546c7",
   "metadata": {},
   "outputs": [
    {
     "data": {
      "text/plain": [
       "['the presidental election is to find a new leader of the united states he basicly has to pass laws and do taxes we vote to make sure we get the right president we dont want someone thats gonna make silly laws and taxes the people to much the president has to take charge has to go to\\xa0 world meetings has to be a role model for the younger people in the world the president has to do alot of work now the vice president has to do what the president cant do sometimes other times hes just there to help the president when he needs him like when the presidents gone on vaction the vice president does his work for him but sometimes the vice president messes up with paperwork so thats why we need to chose the best president not someone random that makes silly laws and to mess up on paperwork and to raise the taxes on the people the president also helps with things going on around the world he also a role model not only to college kids but to highschool kids to so thats why we vote not to pick someone to be specail for the job but to be specail rolemodel for the younger kids he also needs to speak for the people and for his country not for taxeing people or makeing laws its about the people always has been always will be about the people its up to older people and college kids to chose the perfect president if we chose the wrong president are country chould fail\\xa0 and laws chould be broken and taxes whould be high and fights whould happen just one president chould ruin it all for everyone the majority of the college students vote but some dont cause they dont care or either dont beleave in voteing for a guy to run our country some older people dont care for it either but they vote anyway the vice president cant do some of the jobs that our president can do like things to do with the army or with other world leaders it takes alot of skills to deal with alot of screaming people at you like big world leaders yelling at you all day cause you did something wrong or they did something wrong to eachother but the president does a good job cause we voted for a guy that can handle this job that he can handle them yelling at him he can take the pressaure of being a role model a president a father a teacher cause hes basicly teaching the college kids dont give up on your goals they can happen maybe one day a college student wants to be president and the president is their rolemodel basicly he has to teach the world that dont give up when the going gets tough cause if you do then you wont get anywhere in life but if you work hard you can do anything thats why we vote for the president not for a leader whos\\xa0 bossy and throws laws in our faces but a president whos a rolemodel a teacher a father a leader only one state casts one vote the single representavite from wyoming represents 500,000 voters so image that many voters voteing for one guy to run for our country thats alot of voters but we need that many votes cause we dont know if we pick the right president or the wrong one until he gets into office and starts makeing taxes and laws then we can tell if hes a good president or a bad one we spend a week after just watching what the new president does under pressure he has to go under some tests for a couple of weeks befor we know if hes bad or not the president has to get use\\xa0 to guards being around him every where he goes cause they have to protect him from danger like bombs and other stuff the president is targeted alot because hes the rolemodel for the usa so are enemies want to hurt him so thats why hes guarded 24/7 ',\n",
       " 'In the year 1976, when Viking 1 space craft was taking photographs of possiable landing spots for Viking 2 spacecraft, they found a formation in a rock that looked like a human face. The shadows made the rock look like it had a nose, mouth, and two eyes, like a human. This was found in a region of the Red Planet called Cydonia. The \"Head\" was nearly two miles from end to end, and it seemed to be starring back at the cameras.\\n\\nThe controllers back at the Jet Propulsion Lab were probably quite surprised when this face popped up on their screens, looking them right in the eyes. This sensation was short lived. Scientist figured it was just another Martian mesa, which was common around Cydonia. The only difference with this one is it had unusal shadows that made it seem like an Egyptian Pharaoh. A few days later NASA unveiled the image for the public eye to see. The caption on this picture was \"Huge rock formation... which resembles a human head.... formed by shadows giving the illusion of eyes,nose and a mouth.\" NASA\\'S reasoning was that the picture would help engage public attraction to Mars.\\n\\nThis public picture was soon a pop icon. It starred in Hollywood films, was in books, magazines, talk shows on the radio, and even haunted grogery store checkout lines for over 25 years. Some people think that this picture is evidence of life on Mars. Conspiracy theorist say that this is information NASA would rather hide. Defenders of the NASA budget wish that there was life on Mars, as this would make NASA more popular, and even richer, when people use the picture in books, movies, magazines, and more.\\n\\nAlthough most scientist believed the face was an alien artifact, photographing Cydonia became a priority to NASA, when Mars Global Surveyor arrived at the Red Planet eighteen long years after the Viking missions ended. Jim Garvin, cheif scientist, said that they felt like it was a right of taxpayers to see photographs of the face as soon as possiable. On April 5, 1998, Michael Malin snapped a photograph ten times sharper then the old one. This became popular with web surfers, as they were waiting for the first photo to show up on a JPL website. Only this picture showed what they were not wanting, a natural landform. This was not an alien momument after all.\\n\\nWhile most people were satisfied, others were not. They still think that NASA is still hiding evidence of an alien momument. The Face on Mars is located at 41 degrees north martian latitude where it was winter in April 1998. The camera on board MGS had to peer though whispy clouds to see it. Perhaps, said skeptics, alien markings were hidden behind clouds on purpose, so that humans would not be able to see them. Mission controls planned to take another photograph of it. It is not easy work, and it is not easy to target Cydonia. They just do not pass the face very often.\\n\\nNevertheless, on April 8, 2001, a cloudless summer day in Cydonia, MGS drew close enough for a second veiw. They had to roll the spacecraft 25 degrees to center the face in the field of view.\\n\\nThey used the cameras highest resolution. Each pixel in the 2001 image spans at 1.56 meters, compared to 43 meters per pixel in the best 1976 Vikings photo.\"As a rule of thumb, you can discern things in a digital image three times bigger than the pixel size. So if there were objects on the ground such as airplanes or Egyptian-style pyramids or even small shacks, you could have seen what they were\" Said Jim Garvin.\\n\\nWhat the picture actually shows is the Martian equivalent of a butte or mesa, which are landforms that are common around the American West. \"It reminds me of Middle Butte in the Snake River Plain of Idaho\" Says Garvin. \"Thats a lava dome that takes the form of an isolated mesa about the same height of the Face on Mars.\" He added. ',\n",
       " \"You can search the website up so that you can finished it the assignment to handle it in to your teacher if you missing anything from your others class you can finished with your others class you have with your schdule. If you stuck on the question go asked your teacher to helped you out now go to any comptuer that you wanted to be in you have to sign in thorugh your computer to logn in now you hace to wait unitl the screen show up and now go to the website that is on your paper to finished on your assignment on your homework.\\n\\nFirst now go to any comptuer that you wanted to be in you have to sign in thorugh your computer to logn in now you hace to wait unitl the screen is done. Now listen to your teachers to follow the dirction how to go in the website. If you didn't finished the assignment that you can finished it at home. When you take your worksheet home you have to bring it back if you didn't finished it your assignment it be came homework. Now the teacher said now sign off the computer the bell will ring in about 5 minutes left to go your next class.\\n\\nI went to my next class and I have next is Comp Skills so I asked the teacher can you able to help me to finished my other class? the teacher say yes, I would like to help you out to finish any homework that you are missing other class. But, first do it in your own first if you stuck with a question you can go asked your teacher to helped you out faster way. Now you can turn the assignment in to your teacher to put the grade in for you to boost your grade up then your parents like it to have A or B in the others class. Now it's lunchtime we have a break what working on we will coming back to finsihed it up see if you have anything you missing to your other class started working on it.\\n\\nI think you can making your own music video it's really difficult to put in all the shot you have if you have all the shot now you can edit the video by yourself. You can looked up search how you edit your video to upload it on your Youtube Channel so you saw it the video if you still stuck you can watched again again over again in till you know how to edit it your video. If you seen the video when\\n\\nI edit the music video if you see it perfect you can upload your Youtube Channel so it will be a lot of people want to see music video I have been doing since my career. You can go asked your friend to see your music video you have done in your future since when you were a little kid you want to be singing career but, it's hard to lived far away your parents but it's ok you can text them you are okay or you can facetime with them and see how well you being doing without your parents with you.\\n\\nYour friends text you that it's was amazing song you have been writing on well thank you you guys for cheering me since I make these song was in my heart. I text them that one day we should hang out sometimes that getting to know each other more or playing some games together or going to your friends house to do something for ours Youtube Channel for us to making some more money to making all these video it was my career to doing this I was 15 years old\\n\\nI know how to making a video to see how much money I making this video I would proud to myself that I will making more money to raising my parents just like they raising me when I was a little kid now I have to raising them back. If I asked one of my firends that can we making video together so that we can make it as a teammate for making money to raising ours parents we can making a video anything you want in your past of years you been doing right now. From Elementary school I join chorus I really do liking it so the next year I join chorus again but I really want to do something different it's means to me that I really want to have a solo but it's came true I have solo it's the lion king song. On Sunday, when I'm in still teenager after Chinese New Year coming up very soon at my temple so I sign up for singing a song for Tet so I have a wonderful time on Sunday I was singing and dancing it's was really tired while singing and dancing at the same time. \"]"
      ]
     },
     "execution_count": 87,
     "metadata": {},
     "output_type": "execute_result"
    }
   ],
   "source": [
    "d_train[(d_train.discourse_type == 'Evidence') & \n",
    "        (d_train.discourse_effectiveness == 'Ineffective') & \n",
    "        (d_train.text_length > 600)].discourse_text.tolist()"
   ]
  },
  {
   "cell_type": "code",
   "execution_count": null,
   "id": "7d8a431a-eb98-4997-9395-6d0857ba160c",
   "metadata": {},
   "outputs": [],
   "source": []
  }
 ],
 "metadata": {
  "kernelspec": {
   "display_name": "Python 3 (ipykernel)",
   "language": "python",
   "name": "python3"
  },
  "language_info": {
   "codemirror_mode": {
    "name": "ipython",
    "version": 3
   },
   "file_extension": ".py",
   "mimetype": "text/x-python",
   "name": "python",
   "nbconvert_exporter": "python",
   "pygments_lexer": "ipython3",
   "version": "3.9.7"
  }
 },
 "nbformat": 4,
 "nbformat_minor": 5
}
